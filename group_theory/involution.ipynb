{
 "cells": [
  {
   "cell_type": "markdown",
   "id": "c42679f2",
   "metadata": {},
   "source": [
    "# Involution\n",
    "\n",
    "An involution is a function or transformation that is its own inverse.\n",
    "\n",
    "\\begin{align}\n",
    "f(x)^{-1}&=f(x)\\\\\n",
    "f(f(x))&=x\\\\\n",
    "\\end{align}"
   ]
  },
  {
   "cell_type": "markdown",
   "id": "0f6def49",
   "metadata": {},
   "source": [
    "The function below is an involution."
   ]
  },
  {
   "cell_type": "code",
   "execution_count": 1,
   "id": "ad8aa367",
   "metadata": {},
   "outputs": [
    {
     "data": {
      "text/latex": [
       "$\\displaystyle \\frac{x + 1}{x - 1}$"
      ],
      "text/plain": [
       "(x + 1)/(x - 1)"
      ]
     },
     "execution_count": 1,
     "metadata": {},
     "output_type": "execute_result"
    }
   ],
   "source": [
    "from sympy import symbols, simplify\n",
    "\n",
    "x=symbols('x')\n",
    "\n",
    "def f(x):\n",
    "    return (x+1)/(x-1)\n",
    "\n",
    "f(x)"
   ]
  },
  {
   "cell_type": "code",
   "execution_count": 2,
   "id": "240dc797",
   "metadata": {},
   "outputs": [
    {
     "data": {
      "text/latex": [
       "$\\displaystyle x$"
      ],
      "text/plain": [
       "x"
      ]
     },
     "execution_count": 2,
     "metadata": {},
     "output_type": "execute_result"
    }
   ],
   "source": [
    "simplify(f(f(x)))"
   ]
  },
  {
   "cell_type": "markdown",
   "id": "77b7a305",
   "metadata": {},
   "source": [
    "However, its reciprocal is not an involution."
   ]
  },
  {
   "cell_type": "code",
   "execution_count": 3,
   "id": "768118df",
   "metadata": {},
   "outputs": [
    {
     "data": {
      "text/latex": [
       "$\\displaystyle \\frac{x - 1}{x + 1}$"
      ],
      "text/plain": [
       "(x - 1)/(x + 1)"
      ]
     },
     "execution_count": 3,
     "metadata": {},
     "output_type": "execute_result"
    }
   ],
   "source": [
    "def g(x):\n",
    "    return 1/f(x)\n",
    "\n",
    "g(x)"
   ]
  },
  {
   "cell_type": "code",
   "execution_count": 4,
   "id": "aa6c5aeb",
   "metadata": {},
   "outputs": [
    {
     "data": {
      "text/latex": [
       "$\\displaystyle - \\frac{1}{x}$"
      ],
      "text/plain": [
       "-1/x"
      ]
     },
     "execution_count": 4,
     "metadata": {},
     "output_type": "execute_result"
    }
   ],
   "source": [
    "simplify(g(g(x)))"
   ]
  },
  {
   "cell_type": "markdown",
   "id": "e1bf59a1",
   "metadata": {},
   "source": [
    "Reflection, matrix transpose, conjugate transpose, and set complement are all examples of involutive operations, that is, each is its own inverse."
   ]
  },
  {
   "cell_type": "markdown",
   "id": "1dd2dc9b",
   "metadata": {},
   "source": [
    "### Telephone Number Sequence\n",
    "\n",
    "In combinatorics, the telephone numbers refer to a specific sequence of integers that count the number of involutions on a finite set with $𝑛$ elements.\n",
    "\n",
    "It is represented by a recurrence.\n",
    "\n",
    "\\begin{align}\n",
    "T(n)=T(n-1)+(n-1)\\cdot T(n-2)\n",
    "\\end{align}\n",
    "\n",
    "It is defined by a recurrence: when an element is added, the number of combinations is determined by the previous count, assuming the projection maps onto itself, and by taking one element from the previous list, assuming the projection maps to that element and back.\n"
   ]
  },
  {
   "cell_type": "code",
   "execution_count": 5,
   "id": "6833a3f2",
   "metadata": {},
   "outputs": [
    {
     "name": "stdout",
     "output_type": "stream",
     "text": [
      "[1, 1, 2, 4, 10, 26, 76, 232, 764, 2620, 9496]\n"
     ]
    }
   ],
   "source": [
    "from sympy import Integer\n",
    "\n",
    "def telephone_numbers(k):\n",
    "    T = [Integer(1), Integer(1)]  \n",
    "    for i in range(2, k + 1):\n",
    "        T.append(T[i - 1] + (i - 1) * T[i - 2])\n",
    "    return T\n",
    "\n",
    "print(telephone_numbers(10))\n"
   ]
  },
  {
   "cell_type": "markdown",
   "id": "82fc6883",
   "metadata": {},
   "source": [
    "The On-Line Encyclopedia of Integer Sequences (OEIS) provides the sequence of telephone number sequence (<a href=\"A000085\">A000085</a>)."
   ]
  }
 ],
 "metadata": {
  "kernelspec": {
   "display_name": "group-theory-nisUQjzL-py3.13",
   "language": "python",
   "name": "python3"
  },
  "language_info": {
   "codemirror_mode": {
    "name": "ipython",
    "version": 3
   },
   "file_extension": ".py",
   "mimetype": "text/x-python",
   "name": "python",
   "nbconvert_exporter": "python",
   "pygments_lexer": "ipython3",
   "version": "3.13.0"
  }
 },
 "nbformat": 4,
 "nbformat_minor": 5
}
