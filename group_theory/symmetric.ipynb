{
 "cells": [
  {
   "cell_type": "markdown",
   "id": "9ef9bbf7",
   "metadata": {},
   "source": [
    "# Symmetric Groups\n",
    "\n",
    "The symmetric group on $𝑛$ elements, denoted $𝑆_𝑛$, is the group of all permutations of a set with $𝑛$ distinct elements."
   ]
  },
  {
   "cell_type": "code",
   "execution_count": 3,
   "id": "f7799a5e",
   "metadata": {},
   "outputs": [
    {
     "name": "stdout",
     "output_type": "stream",
     "text": [
      "(0)\n"
     ]
    }
   ],
   "source": [
    "from sympy.combinatorics import Permutation, PermutationGroup\n",
    "from sympy.combinatorics.named_groups import SymmetricGroup\n",
    "\n",
    "def dump(S):\n",
    "    for perm in S.generate():\n",
    "        print(perm)\n",
    "\n",
    "S1=SymmetricGroup(1)\n",
    "dump(S1)"
   ]
  },
  {
   "cell_type": "markdown",
   "id": "46e32640",
   "metadata": {},
   "source": [
    "The cycle (1) is a trivial cycle. It represents the identity permutation on the element 0."
   ]
  },
  {
   "cell_type": "code",
   "execution_count": 4,
   "id": "6f7067af",
   "metadata": {},
   "outputs": [
    {
     "name": "stdout",
     "output_type": "stream",
     "text": [
      "(1)\n",
      "(0 1)\n"
     ]
    }
   ],
   "source": [
    "S2=SymmetricGroup(2)\n",
    "dump(S2)"
   ]
  },
  {
   "cell_type": "markdown",
   "id": "5a3ab1d1",
   "metadata": {},
   "source": [
    "The notation (0 1) is called cycle notation, and it represents a permutation in a symmetric group. It swaps the elements 0 and 1."
   ]
  },
  {
   "cell_type": "code",
   "execution_count": 6,
   "id": "8e3eff9a",
   "metadata": {},
   "outputs": [
    {
     "name": "stdout",
     "output_type": "stream",
     "text": [
      "(2)\n",
      "(0 1 2)\n",
      "(0 2 1)\n",
      "(1 2)\n",
      "(2)(0 1)\n",
      "(0 2)\n"
     ]
    }
   ],
   "source": [
    "S3=SymmetricGroup(3)\n",
    "dump(S3)"
   ]
  },
  {
   "cell_type": "markdown",
   "id": "c5870b2b",
   "metadata": {},
   "source": [
    "The cycle (0 1 2) is a 3-cycle that permutes three elements in a cyclic fashion. Specifically, it maps 0 to 1, 1 to 2, and 2 back to 0."
   ]
  },
  {
   "cell_type": "code",
   "execution_count": null,
   "id": "3037999b",
   "metadata": {},
   "outputs": [
    {
     "name": "stdout",
     "output_type": "stream",
     "text": [
      "Order of S3: 6\n"
     ]
    }
   ],
   "source": [
    "print(\"Order of S3:\", S3.order())\n"
   ]
  },
  {
   "cell_type": "code",
   "execution_count": 3,
   "id": "afa8f2d6",
   "metadata": {},
   "outputs": [
    {
     "name": "stdout",
     "output_type": "stream",
     "text": [
      "\n",
      "Is (0 2 1) in S3? True\n"
     ]
    }
   ],
   "source": [
    "# Check if a permutation is in the group\n",
    "p = Permutation([2, 0, 1])  # This represents the cycle (0 2 1)\n",
    "print(\"\\nIs\", p, \"in S3?\", p in S3)\n",
    "\n"
   ]
  },
  {
   "cell_type": "code",
   "execution_count": 4,
   "id": "d6357007",
   "metadata": {},
   "outputs": [
    {
     "name": "stdout",
     "output_type": "stream",
     "text": [
      "\n",
      "Identity element: (2)\n"
     ]
    }
   ],
   "source": [
    "# Group operations\n",
    "identity = S3.identity\n",
    "print(\"\\nIdentity element:\", identity)\n"
   ]
  },
  {
   "cell_type": "code",
   "execution_count": 5,
   "id": "dcea8c56",
   "metadata": {},
   "outputs": [
    {
     "name": "stdout",
     "output_type": "stream",
     "text": [
      "Composition of (0 1 2) and (0 2 1) is (2)\n"
     ]
    }
   ],
   "source": [
    "\n",
    "# Compose two permutations\n",
    "p1 = Permutation([1, 2, 0])  # (0 1 2)\n",
    "p2 = Permutation([2, 0, 1])  # (0 2 1)\n",
    "composition = p1 * p2\n",
    "print(\"Composition of\", p1, \"and\", p2, \"is\", composition)\n"
   ]
  },
  {
   "cell_type": "code",
   "execution_count": 6,
   "id": "8721da2d",
   "metadata": {},
   "outputs": [
    {
     "name": "stdout",
     "output_type": "stream",
     "text": [
      "Inverse of (0 1 2) is (0 2 1)\n"
     ]
    }
   ],
   "source": [
    "\n",
    "# Inverse of a permutation\n",
    "inverse = p1**-1\n",
    "print(\"Inverse of\", p1, \"is\", inverse)"
   ]
  }
 ],
 "metadata": {
  "kernelspec": {
   "display_name": "group-theory-nisUQjzL-py3.13",
   "language": "python",
   "name": "python3"
  },
  "language_info": {
   "codemirror_mode": {
    "name": "ipython",
    "version": 3
   },
   "file_extension": ".py",
   "mimetype": "text/x-python",
   "name": "python",
   "nbconvert_exporter": "python",
   "pygments_lexer": "ipython3",
   "version": "3.13.0"
  }
 },
 "nbformat": 4,
 "nbformat_minor": 5
}
