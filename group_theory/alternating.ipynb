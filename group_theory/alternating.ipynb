{
 "cells": [
  {
   "cell_type": "code",
   "execution_count": null,
   "id": "e6ae3e6e",
   "metadata": {},
   "outputs": [],
   "source": [
    "from sympy.combinatorics.named_groups import SymmetricGroup, AlternatingGroup\n",
    "from sympy.combinatorics.perm_groups import PermutationGroup\n",
    "\n",
    "# Create S4 and A4\n",
    "S4 = SymmetricGroup(4)\n",
    "A4 = AlternatingGroup(4)\n",
    "\n",
    "# Compute the derived (commutator) subgroup of S4\n",
    "commutator_subgroup = S4.derived_subgroup()\n",
    "\n",
    "print(\"Order of S4:\", S4.order())\n",
    "print(\"Order of A4:\", A4.order())\n",
    "print(\"Order of commutator subgroup of S4:\", commutator_subgroup.order())\n",
    "\n"
   ]
  },
  {
   "cell_type": "code",
   "execution_count": null,
   "id": "916b9ea5",
   "metadata": {},
   "outputs": [],
   "source": [
    "# Check if the commutator subgroup is isomorphic to A4\n",
    "is_isomorphic = commutator_subgroup.is_isomorphic(A4)\n",
    "print(\"Is the commutator subgroup of S4 isomorphic to A4?\", is_isomorphic)\n"
   ]
  }
 ],
 "metadata": {
  "language_info": {
   "name": "python"
  }
 },
 "nbformat": 4,
 "nbformat_minor": 5
}
